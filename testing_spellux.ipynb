{
 "cells": [
  {
   "cell_type": "code",
   "execution_count": 1,
   "metadata": {},
   "outputs": [
    {
     "name": "stdout",
     "output_type": "stream",
     "text": [
      "Preparing spellux resources:\n",
      "- importing matching dictionary\n",
      "- importing lemma list\n",
      "- importing inflection dictionary\n",
      "- importing stopwords\n",
      "- importing word embedding model\n",
      "- importing n-rule exception lists\n",
      "- creating TF-IDF matrix\n",
      "\n",
      "All set. Let's go!\n"
     ]
    }
   ],
   "source": [
    "import spellux\n"
   ]
  },
  {
   "cell_type": "code",
   "execution_count": 4,
   "metadata": {},
   "outputs": [],
   "source": [
    "text = \"C'est ça? Ëëë, en français s'il vous plaît. An de Rapporteur huet bestëmmt eng hallef Minutt laang eng Fro erkläert, enz hat kee Wuert verstanen, selwer och näischt gesot, huet selwer misse laachen, huet zwar op Franséisch gefrot, gutt, dat Froen huet eng Kéier op Franséisch gestallt. Jojo. Stattdass ee sech awer bëssen, ëëë, bësse witzeg klammert zou. Mee jo, war do net, do, do hu se och Saache v'vreck do gemaach, nee? Iergendwelch Leit, d'Fransousen oder d'Marokkaner oder ech weess net, wat do... D'Fransouse sinn zum Beispill, komm elo rëm bei de Silvester, do verbren O, dat ass zwar bal net d'Auto bei ee gaang, a wat. Mee sech, sech, sech honnert Autoen einfach, ëëë, do Leit si waren. Jo. Ech mengen, dat ass nach ee Grond, dat haten och schnell engker d'Theema, firwat dat si su schäiss Autoen hunn, well se wëssen, si ginn iergendwann engker ugefaang. Jo. Mee, bon, ëëë, ëëë, dat ass na besonnesch, dass lo Autoen ufänken an sou weider sou virun, denke ech, ass na besonnesch, dass wi lo rtl.lu hat ech lo gesinn, ëëë, wou war et schonn? Ë, neeschtens eng Kéier am Park, ëëë, sot se mat der Aaxt duerch de Park gaang an hunn einfach ëëë, weess de, d'Schëlder oder, ëëë, einfach sou man z'erënneren. Di hoer Jugend. Jo, keng Anung, ob d'Jugend war oder net, mee du deenk ech man virdrun, wat gleeft mat den Leit? Literalement, wat gleeft mat den Leit? Jo, ech verstinn lo net. Bon, mee bon, muss mer op eis Spill kommen? Jo, jo, jo, jo, jo, jo. So, ech hunn lo ee Spill. Et gi fënnef Ronnen. Et sicht sech jo net vill an et ass eng Ofkopplung vun engem, ëëë, anert Spill, wat der vläicht kennt. An ch, ech nennen d'Spill lo einfach Start Bank verkafen. Am Englesche gëtt et ee Spill Fuck Mary Kill, kennt der? Mhm. An, ëëë, jo. Jo, ok. Dat heescht, hei ass et einfach Bank verkafen. Ech nennen Iech. Sportler-Divisioun. Ech nennen Iech dräi NBA-Spiller an Dir sot mer, wee spillt, wee geet op d'Bank a wee gëllt verkafen. What? Dat ass ee vill gär Spill. An, ëëë, ech wëll awer bëssen och op Intertioun. Do wéinst de mech zur Diskussioun. Et sinn just fënnef Ronnen. Dat heescht, ëëë... An ech kenne den Titel vun der Bank. Nee. Nee. Nee. Nee. Nee 't hat den Tyler Hero aus.\""
   ]
  },
  {
   "cell_type": "code",
   "execution_count": 5,
   "metadata": {},
   "outputs": [
    {
     "name": "stdout",
     "output_type": "stream",
     "text": [
      "Number of words: 404\n",
      "Number of new matches: 3\n",
      "Number of corrections (with n-rule): 32\n",
      "Items not found: 29\n",
      "c'est ça? Ëëë, e français s'il wous plaît. An de Rapporteur huet bestëmmt eng hallef Minutt laang eng Fro erkläert, eng hat kee Wuert verstanen, selwer och näischt gesot, huet selwer misse laachen, huet zwar op Franséisch gefrot, gutt, dat Froen huet eng Kéier op Franséisch gestallt. Jo. Stattdass ee sech awer bëssen, ëëë, bësse witzeg klammert zou. Mee jo, war do net, do, do hu se och Saache v'vreck do gemaach, nee? Iergendwellech Leit, d'Fransousen oder d'Marokkaner oder ech weess net, wat do ... D'Fransouse sinn zum Beispill, komm elo rëm bei de Silvester, do verbren O, dat ass zwar bal net d'Auto bei ee Gaang, a wat. Mee sech, sech, sech honnert Autoen einfach, ëëë, do Leit si waren. Jo. Ech mengen, dat ass nach ee Grond, dat haten och schnell enker d'Theema, firwat dat si Su schäiss Autoen hunn, well se wëssen, si ginn iergendwann enker ugefaange. Jo. Mee, bon, ëëë, ëëë, dat ass ni besonnesch, dass lo Autoen ufänken a sou weider sou virun, denke ech, ass ni besonnesch, dass si lo rtl.lu hat ech lo gesinn, ëëë, wou war et schonn? Ë, meeschtens eng Kéier am Park, ëëë, sot se mat der Aaxt duerch de Park Gaang an hunn einfach ëëë, weess de, d'Schëlder oder, ëëë, einfach sou mat z'erënneren. Di Hoer Jugend. Jo, keng Anung, ob d'Jugend war oder net, mee du deenk ech mat virdrun, wat gleeft mat de Leit? Literalement, wat gleeft mat de Leit? Jo, ech versti lo net. Bon, mee bon, muss mer op eis Spill kommen? Jo, jo, jo, jo, jo, jo. So, ech hu lo ee Spill. Et gi fënnef Ronnen. Et sicht sech jo net vill an et ass eng Ofkopplung vun engem, ëëë, anert Spill, wat der vläicht kennt. An ech, ech nennen d'Spill lo einfach Start Bank verkafen. Am Englesche gëtt et ee Spill Fuck Mary Kill, kennt der? Mm. An, ëëë, jo. Jo, ok. Dat heescht, hei ass et einfach Bank verkafen. Ech nennen Iech. Sportler-Divisioun. Ech nennen Iech dräi NBA-Spiller an Dir sot mer, Wee spillt, Wee geet op d'Bank a Wee gëllt verkafen. Wat? Dat ass ee vill gär Spill. An, ëëë, ech wëll awer bëssen och op Intentioun. Do wéinst de mech zur Diskussioun. Et si just fënnef Ronnen. Dat heescht, ëëë ... An ech kenne den Titel vun der Bank. Nee. Nee. Nee. Nee. Nee 't hat den Tyler Hero aus.\n"
     ]
    }
   ],
   "source": [
    "correct = spellux.normalize_text(text, mode='combo', sim_ratio=0.8,\n",
    "          add_matches=True, stats=True, print_unknown=False, nrule=True, indexing=False,\n",
    "          lemmatize=False, stopwords=False, output='string', progress=False)\n",
    "print(correct)"
   ]
  }
 ],
 "metadata": {
  "kernelspec": {
   "display_name": "spellux",
   "language": "python",
   "name": "python3"
  },
  "language_info": {
   "codemirror_mode": {
    "name": "ipython",
    "version": 3
   },
   "file_extension": ".py",
   "mimetype": "text/x-python",
   "name": "python",
   "nbconvert_exporter": "python",
   "pygments_lexer": "ipython3",
   "version": "3.10.14"
  }
 },
 "nbformat": 4,
 "nbformat_minor": 2
}
